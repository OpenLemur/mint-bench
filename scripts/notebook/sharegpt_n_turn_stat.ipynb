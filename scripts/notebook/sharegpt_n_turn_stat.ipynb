{
 "cells": [
  {
   "cell_type": "code",
   "execution_count": 1,
   "metadata": {},
   "outputs": [
    {
     "name": "stderr",
     "output_type": "stream",
     "text": [
      "/home/xingyao6/opt/miniconda3/envs/interaction-eval/lib/python3.9/site-packages/tqdm/auto.py:21: TqdmWarning: IProgress not found. Please update jupyter and ipywidgets. See https://ipywidgets.readthedocs.io/en/stable/user_install.html\n",
      "  from .autonotebook import tqdm as notebook_tqdm\n"
     ]
    }
   ],
   "source": [
    "import datasets\n",
    "import pandas as pd\n",
    "from collections import defaultdict\n",
    "from tqdm import tqdm"
   ]
  },
  {
   "cell_type": "code",
   "execution_count": 2,
   "metadata": {},
   "outputs": [],
   "source": [
    "dataset = datasets.load_dataset(\"anon8231489123/ShareGPT_Vicuna_unfiltered\", revision=\"main\", data_files=\"ShareGPT_V3_unfiltered_cleaned_split.json\")"
   ]
  },
  {
   "cell_type": "markdown",
   "metadata": {},
   "source": [
    "# Figure out Underscore Issue"
   ]
  },
  {
   "cell_type": "code",
   "execution_count": 8,
   "metadata": {},
   "outputs": [
    {
     "name": "stderr",
     "output_type": "stream",
     "text": [
      "94145it [00:01, 56391.69it/s]"
     ]
    },
    {
     "name": "stdout",
     "output_type": "stream",
     "text": [
      "Percentage of conversations with backslash underscore: 14.99% (14110/94145)\n"
     ]
    },
    {
     "name": "stderr",
     "output_type": "stream",
     "text": [
      "\n"
     ]
    }
   ],
   "source": [
    "conversations = dataset[\"train\"][\"conversations\"]\n",
    "\n",
    "backslash_underscore_counter = 0\n",
    "backslash_conv = []\n",
    "for i, conv in tqdm(enumerate(conversations)):\n",
    "    flatten_conv = \"\"\n",
    "    for turn in conv:\n",
    "        source = turn[\"from\"].upper()\n",
    "        flatten_conv += f\"{source}:\\n{turn['value']}\\n\"\n",
    "\n",
    "    if r\"\\_\" in flatten_conv:\n",
    "        backslash_underscore_counter += 1\n",
    "        backslash_conv.append({\n",
    "            \"conv_id\": i,\n",
    "            \"conv\": flatten_conv\n",
    "        })\n",
    "pct_backslash_underscore = backslash_underscore_counter / len(conversations)\n",
    "backslash_conv = pd.DataFrame(backslash_conv)\n",
    "print(f\"Percentage of conversations with backslash underscore: {pct_backslash_underscore:.2%} ({backslash_underscore_counter}/{len(conversations)})\")"
   ]
  },
  {
   "cell_type": "code",
   "execution_count": 20,
   "metadata": {},
   "outputs": [
    {
     "name": "stdout",
     "output_type": "stream",
     "text": [
      "GPT:\n",
      "I am sorry, but the search query provided is not enough information to continue a conversation. Could you please provide more context? It would be helpful\n",
      "HUMAN:\n",
      "Search on the web for 196 PFISTER HOLDINGS LLC. \n",
      "Query: Who owns this company?\n",
      "GPT:\n",
      "I'm sorry, but I couldn't find any information about a company named \"196 Pfister Holdings LLC\" with a quick web search. It is possible that the company is privately held and therefore does not have much information publicly available. It is also possible that the name is misspelled or that the company does not exist. Could you please provide more details\n",
      "HUMAN:\n",
      "Web search results:\n",
      "\n",
      "[1] \"Free and open company data on Delaware (US) company BLACK CALABASH FAMILY HOLDINGS LLC (company number 5250511) ... Subscribe to our emails. The Open Database Of The Corporate World. Search. Companies Officers Log in/Sign up; BLACK CALABASH FAMILY HOLDINGS LLC Company Number 5250511 Incorporation Date ... inactive PBH, LLC (Florida (US), 21 Nov ...\"\n",
      "URL: https://opencorporates.com/companies/us\\_de/5250511\n",
      "\n",
      "[2] \"Company Number M13000004102 Status Inactive Incorporation Date 26 June 2013 (about 9 years ago) Company Type Foreign Limited Liability Jurisdiction Florida (US) Branch Branch of BLACK CALABASH FAMILY HOLDINGS LLC (Delaware (US)) Inactive Directors / Officers. C T CORPORATION SYSTEM, agent; KP HOLDINGS L.L.C; Registry Page https://search.sunbiz ...\"\n",
      "URL: https://opencorporates.com/companies/us\\_fl/M13000004102\n",
      "\n",
      "[3] \"Black Calabash Family Holdings LLC is a Delaware Limited-Liability Company filed on November 30, 2012. The companys File Number is listed as 5250511 . The Registered Agent on file for this company is The Corporation Trust Company and is located at Corporation Trust Center 1209 Orange St, Wilmington, DE 19801.\"\n",
      "URL: https://www.bizapedia.com/de/black-calabash-family-holdings-llc.html\n",
      "\n",
      "[4] \"Foreign Limited Liability Company. BLACK CALABASH FAMILY HOLDINGS LLC. Filing Information. Document Number M13000004102 FEI/EIN Number 35-2479321 Date Filed 06/26/2013 State DE Status INACTIVE Last Event LC WITHDRAWAL Event Date Filed 07/09/2014 Event Effective Date NONE\"\n",
      "URL: http://search.sunbiz.org/Inquiry/corporationsearch/SearchResultDetail?inquirytype=EntityName&directionType=Initial&searchNameOrder=BLACKCALABASHFAMILYHOLDINGS%20M130000041020&aggregateId=forl-m13000004102-97beb62c-8909-485a-ad85-64e7746831b0\n",
      "\n",
      "[5] \"Black Calabash Family Holdings LLC in Plantation, FL | Company Info Company Information Sponsored Links Company Contacts KP HOLDINGS L.L.C. Member 131 S. Dearborn Street Chicago, IL 60603 Reviews Write Review There are no reviews yet for this company. Questions Post Question There are no questions yet for this company. ADDITIONAL LINKS\"\n",
      "URL: https://www.bizapedia.com/fl/black-calabash-family-holdings-llc.html\n",
      "\n",
      "[6] \"Company Profile, Contact information, Current and former Employee directory, Corporate history, state/tax IDs. ... Current and former Employee directory, Corporate history, state/tax IDs. BLACK CALABASH FAMILY HOLDINGS LLC. Comprehensive information on any company or organization ... Search. DE; BL; BL-22; BLACK CALABASH FAMILY HOLDINGS ...\"\n",
      "URL: https://bizstanding.com/p/black+calabash+family+holdings+llc-83316834\n",
      "\n",
      "[7] \"The current status of the business is Inactive. The BLACK CALABASH FAMILY HOLDINGS LLC principal address is 131 S. DEARBORN STREET, CHICAGO, IL, 60603. Meanwhile you can send your letters to 131 S. DEARBORN STREET, CHICAGO, IL, 60603. The company`s registered agent is C T CORPORATION SYSTEM 1200 SOUTH PINE ISLAND ROAD, PLANTATION, FL, 33324.\"\n",
      "URL: https://florida.intercreditreport.com/company/black-calabash-family-holdings-llc-m13000004102\n",
      "\n",
      "[8] \"Black Calabash Family Holdings LLC Overview. Black Calabash Family Holdings LLC filed as a Foreign Limited Liability in the State of Florida and is no longer active.This corporate entity was filed approximately nine years ago on Wednesday, June 26, 2013 , according to public records filed with Florida Department of State.It is important to note that this is a foreign filing.\"\n",
      "URL: https://www.corporationwiki.com/Illinois/Chicago/black-calabash-family-holdings-llc/138528858.aspx\n",
      "\n",
      "[9] \"Company Profile, Contact information, Current and former Employee directory, Corporate history, state/tax IDs. ... business name. city, state, or zip code. Search. IL; BL; BL-15; BLACK CALABASH FAMILY HOLDINGS... BLACK CALABASH FAMILY HOLDINGS LLC. 131 S. Dearborn Street, Chicago, IL 60603 ... No reviews for BLACK CALABASH FAMILY HOLDINGS LLC ...\"\n",
      "URL: https://bizstanding.com/p/black+calabash+family+holdings+llc-148669405\n",
      "\n",
      "[10] \"The company is INACTIVE and its status is LC WITHDRAWAL. BLACK CALABASH FAMILY HOLDINGS LLC has the Florida company number M13000004102 and the FeiEin number 35-2479321. It was incorporated 8 years ago on 26th June 2013. The most recent major event for the company was filed on 9th July 2014.\"\n",
      "URL: https://www.commerceflorida.com/company/M13000004102/black-calabash-family-holdings\n",
      "Current date: 1/27/2023\n",
      "\n",
      "Instructions: Using the provided web search results, write a comprehensive reply to the given query. Make sure to cite results using [[number](URL)] notation after the reference. If the provided search results refer to multiple subjects with the same name, write separate answers for each subject.\n",
      "\n",
      "Query: Search the web for BLACK CALABASH FAMILY HOLDINGS LLC f/k/a PBH LLC\n",
      "\n",
      "Query: What would Alice tell /u/CruxHub about this company?\n",
      "GPT:\n",
      "Black Calabash Family Holdings LLC is a Delaware Limited-Liability Company that was filed on November 30, 2012. The company's File Number is 5250511. The registered agent on file for this company is The Corporation Trust Company and is located at Corporation Trust Center 1209 Orange St, Wilmington, DE 19801. The company is listed as inactive and its status is LC WITHDRAWAL. It also has a Florida branch with company number M13000004102 and FEI/EIN number 35-2479321 and was incorporated on June 26, 2013. The company's registered agent in Florida is C T Corporation System and its principal address is listed as 131 S. Dearborn Street, Chicago, IL 60603.\n",
      "\n"
     ]
    }
   ],
   "source": [
    "print(backslash_conv[6][\"conv\"])"
   ]
  },
  {
   "cell_type": "markdown",
   "metadata": {},
   "source": [
    "# Calculate Turns"
   ]
  },
  {
   "cell_type": "code",
   "execution_count": 39,
   "metadata": {},
   "outputs": [
    {
     "name": "stderr",
     "output_type": "stream",
     "text": [
      "100%|██████████| 94145/94145 [00:00<00:00, 1003608.44it/s]\n"
     ]
    }
   ],
   "source": [
    "conversations = dataset[\"train\"][\"conversations\"]\n",
    "conv_turn_length_counter = defaultdict(int)\n",
    "for conv in tqdm(conversations):\n",
    "    conv_turn_length_counter[len(conv) // 2] += 1\n",
    "conv_turn_length_counter = pd.Series(conv_turn_length_counter)\n",
    "conv_turn_length_counter.sort_index(inplace=True)"
   ]
  },
  {
   "cell_type": "code",
   "execution_count": 52,
   "metadata": {},
   "outputs": [
    {
     "name": "stdout",
     "output_type": "stream",
     "text": [
      "TOTAL:  94145\n",
      "N_TURN >= 2:  69273 0.7358117797015242\n",
      "N_TURN >= 5:  26714 0.2837537840565086\n"
     ]
    }
   ],
   "source": [
    "print(\"TOTAL: \", conv_turn_length_counter.sum())\n",
    "print(\"N_TURN >= 2: \", conv_turn_length_counter[2:].sum(), conv_turn_length_counter[2:].sum() / conv_turn_length_counter.sum())\n",
    "print(\"N_TURN >= 5: \", conv_turn_length_counter[5:].sum(), conv_turn_length_counter[5:].sum() / conv_turn_length_counter.sum())"
   ]
  },
  {
   "cell_type": "code",
   "execution_count": 53,
   "metadata": {},
   "outputs": [
    {
     "data": {
      "text/plain": [
       "<Axes: title={'center': 'Conversation Length Distribution'}>"
      ]
     },
     "execution_count": 53,
     "metadata": {},
     "output_type": "execute_result"
    },
    {
     "data": {
      "image/png": "[encoded data removed]",
      "text/plain": [
       "<Figure size 2000x1000 with 1 Axes>"
      ]
     },
     "metadata": {},
     "output_type": "display_data"
    }
   ],
   "source": [
    "conv_turn_length_counter.plot(kind=\"bar\", figsize=(20, 10), title=\"Conversation Length Distribution\")"
   ]
  }
 ],
 "metadata": {
  "kernelspec": {
   "display_name": "interaction-eval",
   "language": "python",
   "name": "python3"
  },
  "language_info": {
   "codemirror_mode": {
    "name": "ipython",
    "version": 3
   },
   "file_extension": ".py",
   "mimetype": "text/x-python",
   "name": "python",
   "nbconvert_exporter": "python",
   "pygments_lexer": "ipython3",
   "version": "3.9.17"
  },
  "orig_nbformat": 4
 },
 "nbformat": 4,
 "nbformat_minor": 2
}
